{
  "nbformat": 4,
  "nbformat_minor": 0,
  "metadata": {
    "colab": {
      "name": "UpGrad Day2-Assign3.ipynb",
      "provenance": []
    },
    "kernelspec": {
      "name": "python3",
      "display_name": "Python 3"
    },
    "language_info": {
      "name": "python"
    }
  },
  "cells": [
    {
      "cell_type": "code",
      "metadata": {
        "colab": {
          "base_uri": "https://localhost:8080/"
        },
        "id": "zFtDbo1HBP4Y",
        "outputId": "0c9e2a9b-2714-4a63-eb84-7a62fed859fd"
      },
      "source": [
        "#Assign 3: to remove all occurences of elem in a list as discussed bfr\n",
        "l=[1,2,1,2,2,2,1]\n",
        "val=2\n",
        "l.remove(val)\n",
        "print(l)\n",
        "val=2\n",
        "l.remove(val)\n",
        "print(l)\n",
        "val=2\n",
        "l.remove(val)\n",
        "print(l)\n",
        "val=2\n",
        "l.remove(val)\n",
        "print(l)\n",
        "#we can do this repetedly until valueerror\n",
        "\n",
        "#use of simple loop and define value u need to remove\n",
        "mylist = [1,2,1,2,2,1]\n",
        "r_item = 1\n",
        "\n",
        "#remove the item for all its occurrences\n",
        "for item in mylist:\n",
        "\tif(item==r_item):\n",
        "\t\tmylist.remove(r_item)\n",
        "\n",
        "print(mylist)"
      ],
      "execution_count": 1,
      "outputs": [
        {
          "output_type": "stream",
          "text": [
            "[1, 1, 2, 2, 2, 1]\n",
            "[1, 1, 2, 2, 1]\n",
            "[1, 1, 2, 1]\n",
            "[1, 1, 1]\n",
            "[2, 2, 2]\n"
          ],
          "name": "stdout"
        }
      ]
    },
    {
      "cell_type": "code",
      "metadata": {
        "colab": {
          "base_uri": "https://localhost:8080/"
        },
        "id": "yCLsudV1Bgn3",
        "outputId": "370e51a0-12be-4e33-8a5a-86aea170d384"
      },
      "source": [
        "#Assign 4:Given a string input & we need to check whether that string is Pangram.\n",
        "#pangram-is a sentence or series of words which contains every letter in the English Alphabets collection. \n",
        "import string, sys\n",
        "def ispangram(str1, alphabet=string.ascii_lowercase):\n",
        "    alphaset = set(alphabet)\n",
        "    return alphaset <= set(str1.lower())\n",
        " \n",
        "print ( ispangram('Hi tell me u love upgrad ')) "
      ],
      "execution_count": 3,
      "outputs": [
        {
          "output_type": "stream",
          "text": [
            "False\n"
          ],
          "name": "stdout"
        }
      ]
    }
  ]
}